{
 "cells": [
  {
   "cell_type": "markdown",
   "metadata": {},
   "source": [
    "# Kryteria zamykania podproblemów"
   ]
  },
  {
   "cell_type": "code",
   "execution_count": 4,
   "metadata": {},
   "outputs": [
    {
     "name": "stdout",
     "output_type": "stream",
     "text": [
      "Lista niezamkniętych podproblemów: []\n"
     ]
    },
    {
     "data": {
      "text/plain": [
       "[]"
      ]
     },
     "execution_count": 4,
     "metadata": {},
     "output_type": "execute_result"
    }
   ],
   "source": [
    "#Funkcje obsługi pojedyńczych podproblemów\n",
    "#----------------------------------------------------------------------------------------------------------\n",
    "#Jeśli macierz jest wypełniona nieskończonościami => zamknij podproblem\n",
    "def KZ1(cost: float) -> bool:\n",
    "    \n",
    "    \"\"\"\n",
    "    cost - najmniejszy koszt redukcji w obecnej pętli\n",
    "    return: True - problem zamknięty\n",
    "    return: False - problem niezamknięty\n",
    "    \"\"\"\n",
    "    \n",
    "    if cost == np.inf:\n",
    "        return True\n",
    "    else:\n",
    "        return False\n",
    "    \n",
    "    pass\n",
    "\n",
    "def KZ2():\n",
    "    return True\n",
    "\n",
    "#Jeśli wszystkie wierzchołki zostały odwiedzone => zamknij podproblem\n",
    "def KZ3(matrix: np.ndarray, path: List[Tuple[int, int]]) -> bool:\n",
    "    \n",
    "    \"\"\"\n",
    "    matrix - macierz po podziale na podproblemy\n",
    "    path - krotka ze współrzędnymi odwiedzonych wierzchołków\n",
    "    return: True - problem zamknięty\n",
    "    return: False - problem niezamknięty\n",
    "    \"\"\"\n",
    "    \n",
    "    if len(matrix) == len(path):\n",
    "        return True\n",
    "    else:\n",
    "        return False\n",
    "    \n",
    "    pass\n",
    "\n",
    "#Funkcja zamykania wszystkich podproblemów\n",
    "#----------------------------------------------------------------------------------------------------------\n",
    "#Jeśli podproblem został rozwiązany -> wyrzuć go z listy podproblemów\n",
    "# Jeśli lista podproblemów jest pusta -> zakończ cały algorytm - do zaimplementowania w funkcji zewnętrznej\n",
    "# Jeśli lista podproblemów nie jest pusta -> przejdź do kroku 5 - do zaimplementowania w funkcji zewnętrznej\n",
    "def closing_subproblems(list_of_subproblems: List[Tuple[np.ndarray, float]], path: List[Tuple[int, int]]):\n",
    "    \n",
    "    \"\"\"\n",
    "    list_of_subproblems = List[matrix, cost] - lista podproblemów\n",
    "    matrix - macierz po redukcji\n",
    "    cost - najmniejszy koszt redukcji w obecnej pętli\n",
    "    path - krotka ze współrzędnymi odwiedzonych wierzchołków\n",
    "    return: list_copy - lista niezamkniętych podproblemów\n",
    "    \"\"\"\n",
    "    \n",
    "    list_copy = list_of_subproblems.copy()\n",
    "    \n",
    "\n",
    "    for i in range(len(list_of_subproblems)):\n",
    "        \n",
    "        matrix, cost = list_of_subproblems[i]\n",
    "        kz1 = KZ1(cost)\n",
    "        kz2 = KZ2()\n",
    "        kz3 = KZ3(matrix, path)\n",
    "        \n",
    "        if kz1 == True or kz2 == True or kz3 == True:\n",
    "            list_copy.remove(list_of_subproblems[i])\n",
    "  \n",
    "    print(\"Lista niezamkniętych podproblemów:\",list_copy)\n",
    "    \n",
    "    \n",
    "    return list_copy\n",
    "    \n",
    "    pass\n",
    "\n",
    "a = np.array([[0, np.inf], [np.inf, np.inf]])\n",
    "b = np.array([[2, np.inf], [np.inf, np.inf]])\n",
    "closing_subproblems([[a, np.inf], [b, 4]], [(0, 1), (1, 0)])"
   ]
  }
 ],
 "metadata": {
  "kernelspec": {
   "display_name": "Python 3",
   "language": "python",
   "name": "python3"
  },
  "language_info": {
   "codemirror_mode": {
    "name": "ipython",
    "version": 3
   },
   "file_extension": ".py",
   "mimetype": "text/x-python",
   "name": "python",
   "nbconvert_exporter": "python",
   "pygments_lexer": "ipython3",
   "version": "3.8.5"
  }
 },
 "nbformat": 4,
 "nbformat_minor": 4
}
