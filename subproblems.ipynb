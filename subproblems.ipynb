{
 "cells": [
  {
   "cell_type": "markdown",
   "metadata": {},
   "source": [
    "### Łukasz Rams\n",
    "**Obsługa podproblemów**"
   ]
  },
  {
   "cell_type": "code",
   "execution_count": null,
   "metadata": {},
   "outputs": [],
   "source": [
    "import numpy as np\n",
    "from typing import Tuple\n",
    "\n",
    "\n",
    "def subproblems(data: np.ndarray, section: Tuple[int, int]):\n",
    "    \"\"\"\n",
    "    funkcja przyjmuje jako argumenty macierz i odcinek, a następnie wyznacza\n",
    "    first_sub - pierwszy podproblem zawierający odcinek <i*j*>\n",
    "    second_sub - drugi podproblem nie zawierający odcinka <i*j*>\n",
    "    \"\"\"\n",
    "    # PODPROBLEM PIERWSZY\n",
    "    # Wykreślenie i-tego wiersza oraz j-tej kolumny\n",
    "    first_sub = np.delete(np.delete(data, section[0], axis=0), section[1], axis=1)\n",
    "    \n",
    "    # zabronienie podcyklu\n",
    "    \n",
    "    # dodatkowa redukcja i nowe LB\n",
    "    \n",
    "    # PODPROBLEM DRUGI\n",
    "    # zabronienie <i*j*>\n",
    "    \n",
    "    # redukcja \n",
    "    \n",
    "    # LB\n",
    "    "
   ]
  }
 ],
 "metadata": {
  "kernelspec": {
   "display_name": "Python 3",
   "language": "python",
   "name": "python3"
  },
  "language_info": {
   "codemirror_mode": {
    "name": "ipython",
    "version": 3
   },
   "file_extension": ".py",
   "mimetype": "text/x-python",
   "name": "python",
   "nbconvert_exporter": "python",
   "pygments_lexer": "ipython3",
   "version": "3.8.2rc2"
  }
 },
 "nbformat": 4,
 "nbformat_minor": 4
}
