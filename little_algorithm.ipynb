{
 "cells": [
  {
   "cell_type": "markdown",
   "metadata": {},
   "source": [
    "# Metoda podziału i ograniczeń – algorytm Little’a dla zagadnienia komiwojażera\n",
    "\n",
    "<b>Grupa: </b> 4a, czwartek 14:30 – 16:00 \n",
    "\n",
    "<b>Data zajęć: </b> 27.05.2021\n",
    "\n",
    "<b> Skład zespołu: </b>\n",
    "\n",
    "-Zuzanna Zielińska \n",
    "\n",
    "-Zofia Lenarczyk \n",
    "\n",
    "-Maciej Kucharski \n",
    "\n",
    "-Łukasz Rams"
   ]
  },
  {
   "cell_type": "markdown",
   "metadata": {},
   "source": [
    "### Importy potrzebnych bibliotek"
   ]
  },
  {
   "cell_type": "code",
   "execution_count": 1,
   "metadata": {},
   "outputs": [],
   "source": [
    "import numpy as np\n",
    "from typing import Tuple, Optional, List"
   ]
  },
  {
   "cell_type": "markdown",
   "metadata": {},
   "source": [
    "## Krok 1 - Redukcja macierzy i wyznaczenie najmniejszego kosztu redukcji"
   ]
  },
  {
   "cell_type": "code",
   "execution_count": 2,
   "metadata": {},
   "outputs": [],
   "source": [
    "def reduce_matrix(matrix: np.ndarray) -> Optional[Tuple[np.ndarray, int]]:\n",
    "    \"\"\"\n",
    "    Funkcja realizuje redukcję macierzy kwadratowej.\n",
    "    W każdym wierszu wyszukiwany jest element najmniejszy, który następnie jest dodawany do kosztu redukcji oraz\n",
    "    odejmowany (redukowany) od wszystkich elementów w wierszu.\n",
    "    Analogiczne działanie dla kolumn macierzy.\n",
    "\n",
    "    :param matrix: macierz wejściowa\n",
    "    :return: zredukowana macierz, koszt redukcji\n",
    "    \"\"\"\n",
    "\n",
    "    # Sprawdzenie czy macierz jest kwadratowa:\n",
    "    if matrix.shape[0] != matrix.shape[1]:\n",
    "        print('Niepoprawne wymiary macierzy wejściowej')\n",
    "        return None\n",
    "    \n",
    "    print(\"Krok 1\\n\")\n",
    "\n",
    "    reduction_cost: int = 0  # Koszt redukcji\n",
    "    reduced_rows_matrix: np.ndarray = np.zeros(matrix.shape)  # Macierz z zredukowanymi wierszami\n",
    "    reduced_matrix: np.ndarray = np.zeros(matrix.shape)  # Zredukowana macierz\n",
    "\n",
    "   # Redukcja wierszy\n",
    "    for i in range(matrix.shape[0]):\n",
    "        if np.array_equal(matrix[i], matrix.shape[0]*[np.inf]) is False:\n",
    "            minimum = matrix[i].min()\n",
    "            reduction_cost += minimum\n",
    "            row_reduced = [x - minimum for x in matrix[i]]\n",
    "            reduced_rows_matrix[i] = row_reduced\n",
    "        else:\n",
    "            reduced_rows_matrix[i] = matrix[i]\n",
    "\n",
    "    print(f'Macierz ze zredukowanymi wierszami:\\n {reduced_rows_matrix}')\n",
    "    print(f'Koszt redukcji wierszy: {reduction_cost}')\n",
    "\n",
    "    # Redukcja kolumn\n",
    "    for i in range(matrix.shape[0]):\n",
    "        if np.array_equal(matrix[:, i], matrix.shape[0]*[np.inf]) is False:\n",
    "            minimum = reduced_rows_matrix[:, i].min()\n",
    "            reduction_cost += minimum\n",
    "            col_reduced = [x - minimum for x in reduced_rows_matrix[:, i]]\n",
    "            reduced_matrix[:, i] = col_reduced\n",
    "        else:\n",
    "            reduced_matrix[:, i] = matrix[:, i]\n",
    "\n",
    "    print(f'Zredukowana macierz:\\n {reduced_matrix}')\n",
    "    print(f'Całkowity koszt redukcji macierzy: {reduction_cost}')\n",
    "\n",
    "    return reduced_matrix, reduction_cost\n",
    "\n",
    "\n",
    "def get_cost(row: int, col: int, A: np.ndarray) -> int:\n",
    "    '''\n",
    "    Funkcja obliczająca koszt wyłączenia odcinka o danych współrzędnych (row, col).\n",
    "    Koszt to suma najmniejszego elementu w kolumnie col oraz najmniejszego elementu w wierszu row, nie               \\\n",
    "    uwzględniając elementu (row, col)\n",
    "\n",
    "    :param row: numer wiersza\n",
    "    :param col: numer kolumny\n",
    "    :param A: macierz\n",
    "    :return: koszt wyłączenia odcinka o danych współrzędnych\n",
    "    '''\n",
    "\n",
    "    X, Y = A.shape\n",
    "    row_without_zero = []\n",
    "    col_without_zero = []\n",
    "\n",
    "    for i in range(Y):\n",
    "        if i != col:\n",
    "            row_without_zero.append(A[row][i])\n",
    "\n",
    "    for i in range(X):\n",
    "        if i != row:\n",
    "            col_without_zero.append(A[i][col])\n",
    "\n",
    "    cost = np.min(np.array(row_without_zero)) + np.min(np.array(col_without_zero))\n",
    "\n",
    "    return cost\n"
   ]
  },
  {
   "cell_type": "markdown",
   "metadata": {},
   "source": [
    "## Krok 2 - Wyznaczenie odcinka o maksymalnym otymistycznym koszcie wyłączenia"
   ]
  },
  {
   "cell_type": "code",
   "execution_count": 3,
   "metadata": {},
   "outputs": [],
   "source": [
    "def get_new_coords(A: np.ndarray) -> Tuple[Tuple[int, int], int]:\n",
    "    '''\n",
    "    Funkcja wyznaczająca współrzędne nowego odcinka\n",
    "    PRZYJĘTE OZNACZENIE PRZEJŚĆ ZABRONIONYCH JAKO NP.INF\n",
    "\n",
    "    :param A: Zredukowna macierz kosztów\n",
    "    :return: dwuelementowa krotka zawierająca współrzędne początka oraz końca odcinka <i*j*>,\n",
    "             max optymalny koszt wyłączenia tego odcinka\n",
    "    '''\n",
    "    \n",
    "    print(\"\\nKrok 2\\n\")\n",
    "    \n",
    "    X, Y = A.shape\n",
    "    cost: int = -1\n",
    "\n",
    "    #  współrzędne nowego odcinka\n",
    "    new_row: int = 0\n",
    "    new_col: int = 0\n",
    "\n",
    "    for i in range(X):\n",
    "        for j in range(Y):\n",
    "            # Szukam zer w zredukowanej macierzy\n",
    "            if A[i][j] != np.inf:\n",
    "                if A[i][j] == 0:\n",
    "                    #  koszt wyłączenia - suma elementów minimalnych w wierszu 'i' oraz kolumnie 'j' bez                                rozważanego elementu zerowego\n",
    "                    suma = get_cost(i, j, A)\n",
    "                    #  Wybieramy te współrzędne, dla których koszt wyłączenia jest największy\n",
    "                    if suma > cost:\n",
    "                        new_row, new_col = i, j\n",
    "                        cost = suma\n",
    "                        \n",
    "    print(f'Wyznaczony odcinek: {new_row, new_col}, koszt wyłączenia: {cost}')\n",
    "    return (new_row, new_col), cost\n",
    "    "
   ]
  },
  {
   "cell_type": "markdown",
   "metadata": {},
   "source": [
    "## Krok 3 - Podział problemu na dwa podproblemy"
   ]
  },
  {
   "cell_type": "code",
   "execution_count": 4,
   "metadata": {},
   "outputs": [],
   "source": [
    "def subproblems(data: np.ndarray, path: List[Tuple[int, int]], section: Tuple[int, int], LB: int):\n",
    "    \"\"\"\n",
    "    funkcja przyjmuje jako argumenty:\n",
    "    data: Macierz z danymi\n",
    "    path: dotychczas wyznaczone odcinki\n",
    "    section: nowo wyznaczony odcinek\n",
    "    LB: dotychczasowe LB\n",
    "    \n",
    "    zwraca:\n",
    "    red_first_sub - zredukowany pierwszy podproblem zawierający odcinek <i*j*>\n",
    "    new_LB - nowo wyznaczone LB dla red_first_sub\n",
    "    red_second_sub - zredukowany drugi podproblem nie zawierający odcinka <i*j*>\n",
    "    new_LB2 - nowo wyznaczone LB dla red_second_sub\n",
    "    \"\"\"\n",
    "    \n",
    "    print(\"\\nKrok 3\\n\")\n",
    "    \n",
    "    # PODPROBLEM PIERWSZY\n",
    "    first_sub: np.ndarray = data.copy()\n",
    "    \n",
    "    # Wykreślenie i-tego wiersza oraz j-tej kolumny\n",
    "    for i in range(first_sub.shape[0]):\n",
    "        if i == section[0]:\n",
    "            first_sub[i] = [np.inf] * len(first_sub[i])\n",
    "        else:\n",
    "            first_sub[i][section[1]] = np.inf\n",
    "        \n",
    "    # zabronienie podcyklu\n",
    "    path.append(section)\n",
    "    subcircles(first_sub, path)\n",
    "    \n",
    "    # dodatkowa redukcja i nowe LB\n",
    "    red_first_sub, cost = reduce_matrix(first_sub)\n",
    "    new_LB = LB + cost\n",
    "    \n",
    "    print(\"Macierz zredukowana:\\n\", red_first_sub, f\"\\nNowe LB = {LB} + {cost} = {new_LB}\")\n",
    "    \n",
    "    \n",
    "    # PODPROBLEM DRUGI\n",
    "    # zabronienie <i*j*>\n",
    "    second_sub: np.ndarray = data.copy()\n",
    "    \n",
    "    # redukcja \n",
    "    red_second_sub, cost = reduce_matrix(second_sub)\n",
    "    \n",
    "    # LB\n",
    "    new_LB2 = LB + cost\n",
    "    \n",
    "    print(\"Macierz zredukowana:\\n\", red_second_sub, f\"\\nNowe LB = {LB} + {cost} = {new_LB2}\")\n",
    "    \n",
    "    return [(red_first_sub, new_LB), (red_second_sub, new_LB2)]\n",
    "    "
   ]
  },
  {
   "cell_type": "code",
   "execution_count": 5,
   "metadata": {},
   "outputs": [],
   "source": [
    "def subcircles(data: np.ndarray, section: List[Tuple[int, int]]) -> None:\n",
    "    \"\"\"\n",
    "    data: macierz z danymi\n",
    "    section: dotychczas wyznaczone odcinki\n",
    "    Funkcja zabrania powstawania podcykli\n",
    "    \"\"\"\n",
    "    if len(section) < data.shape[0]:\n",
    "        p = section[-1][0]\n",
    "        k = section[-1][1]\n",
    "        begins = [elem[0] for elem in section]\n",
    "        ends = [elem[1] for elem in section]\n",
    "\n",
    "        # znalezienie początku i końca odcinka\n",
    "        while True:\n",
    "            if p in ends:\n",
    "                p = section[ends.index(p)][0]\n",
    "            else:\n",
    "                break\n",
    "        \n",
    "        while True:\n",
    "            if k in begins:\n",
    "                k = section[begins.index(k)][1]\n",
    "            else:\n",
    "                break\n",
    "        \n",
    "        # zabronienie podcyklu\n",
    "        data[k][p] = np.inf\n",
    "        \n",
    "        \n",
    "        "
   ]
  },
  {
   "cell_type": "markdown",
   "metadata": {},
   "source": [
    "## Krok 4 - Analiza podproblemów i kryterium zakończenia obliczeń"
   ]
  },
  {
   "cell_type": "markdown",
   "metadata": {},
   "source": [
    "## Krok 5 - Wybór podproblemu o minimalnej wartości kosztu redukcji"
   ]
  },
  {
   "cell_type": "markdown",
   "metadata": {},
   "source": [
    "# Algorytm Little'a"
   ]
  },
  {
   "cell_type": "code",
   "execution_count": 6,
   "metadata": {},
   "outputs": [
    {
     "output_type": "stream",
     "name": "stdout",
     "text": [
      "Macierz wejściowa:\n [[5 8 9 2 1 5 8 6 4 2]\n [3 4 5 8 7 5 2 1 6 5]\n [9 8 7 5 9 2 3 6 5 9]\n [8 7 5 6 5 7 8 9 5 6]\n [2 1 4 5 7 8 6 3 2 1]\n [4 7 5 8 9 6 5 2 1 4]\n [7 9 5 6 3 2 1 4 5 4]\n [8 2 1 5 3 2 1 2 3 6]\n [5 7 5 6 2 7 9 3 4 6]\n [7 5 6 4 6 7 9 2 1 7]] \n\nKrok 1\n\nMacierz ze zredukowanymi wierszami:\n [[4. 7. 8. 1. 0. 4. 7. 5. 3. 1.]\n [2. 3. 4. 7. 6. 4. 1. 0. 5. 4.]\n [7. 6. 5. 3. 7. 0. 1. 4. 3. 7.]\n [3. 2. 0. 1. 0. 2. 3. 4. 0. 1.]\n [1. 0. 3. 4. 6. 7. 5. 2. 1. 0.]\n [3. 6. 4. 7. 8. 5. 4. 1. 0. 3.]\n [6. 8. 4. 5. 2. 1. 0. 3. 4. 3.]\n [7. 1. 0. 4. 2. 1. 0. 1. 2. 5.]\n [3. 5. 3. 4. 0. 5. 7. 1. 2. 4.]\n [6. 4. 5. 3. 5. 6. 8. 1. 0. 6.]]\nKoszt redukcji wierszy: 16\nZredukowana macierz:\n [[3. 7. 8. 0. 0. 4. 7. 5. 3. 1.]\n [1. 3. 4. 6. 6. 4. 1. 0. 5. 4.]\n [6. 6. 5. 2. 7. 0. 1. 4. 3. 7.]\n [2. 2. 0. 0. 0. 2. 3. 4. 0. 1.]\n [0. 0. 3. 3. 6. 7. 5. 2. 1. 0.]\n [2. 6. 4. 6. 8. 5. 4. 1. 0. 3.]\n [5. 8. 4. 4. 2. 1. 0. 3. 4. 3.]\n [6. 1. 0. 3. 2. 1. 0. 1. 2. 5.]\n [2. 5. 3. 3. 0. 5. 7. 1. 2. 4.]\n [5. 4. 5. 2. 5. 6. 8. 1. 0. 6.]]\nCałkowity koszt redukcji macierzy: 18.0\n\nKrok 2\n\nWyznaczony odcinek: (1, 7), koszt wyłączenia: 2.0\n\nKrok 3\n\nKrok 1\n\nMacierz ze zredukowanymi wierszami:\n [[ 3.  7.  8.  0.  0.  4.  7. inf  3.  1.]\n [inf inf inf inf inf inf inf inf inf inf]\n [ 6.  6.  5.  2.  7.  0.  1. inf  3.  7.]\n [ 2.  2.  0.  0.  0.  2.  3. inf  0.  1.]\n [ 0.  0.  3.  3.  6.  7.  5. inf  1.  0.]\n [ 2.  6.  4.  6.  8.  5.  4. inf  0.  3.]\n [ 5.  8.  4.  4.  2.  1.  0. inf  4.  3.]\n [ 6. inf  0.  3.  2.  1.  0. inf  2.  5.]\n [ 2.  5.  3.  3.  0.  5.  7. inf  2.  4.]\n [ 5.  4.  5.  2.  5.  6.  8. inf  0.  6.]]\nKoszt redukcji wierszy: 0.0\nZredukowana macierz:\n [[ 3.  7.  8.  0.  0.  4.  7. inf  3.  1.]\n [inf inf inf inf inf inf inf inf inf inf]\n [ 6.  6.  5.  2.  7.  0.  1. inf  3.  7.]\n [ 2.  2.  0.  0.  0.  2.  3. inf  0.  1.]\n [ 0.  0.  3.  3.  6.  7.  5. inf  1.  0.]\n [ 2.  6.  4.  6.  8.  5.  4. inf  0.  3.]\n [ 5.  8.  4.  4.  2.  1.  0. inf  4.  3.]\n [ 6. inf  0.  3.  2.  1.  0. inf  2.  5.]\n [ 2.  5.  3.  3.  0.  5.  7. inf  2.  4.]\n [ 5.  4.  5.  2.  5.  6.  8. inf  0.  6.]]\nCałkowity koszt redukcji macierzy: 0.0\nMacierz zredukowana:\n [[ 3.  7.  8.  0.  0.  4.  7. inf  3.  1.]\n [inf inf inf inf inf inf inf inf inf inf]\n [ 6.  6.  5.  2.  7.  0.  1. inf  3.  7.]\n [ 2.  2.  0.  0.  0.  2.  3. inf  0.  1.]\n [ 0.  0.  3.  3.  6.  7.  5. inf  1.  0.]\n [ 2.  6.  4.  6.  8.  5.  4. inf  0.  3.]\n [ 5.  8.  4.  4.  2.  1.  0. inf  4.  3.]\n [ 6. inf  0.  3.  2.  1.  0. inf  2.  5.]\n [ 2.  5.  3.  3.  0.  5.  7. inf  2.  4.]\n [ 5.  4.  5.  2.  5.  6.  8. inf  0.  6.]] \nNowe LB = 2.0 + 0.0 = 2.0\nKrok 1\n\nMacierz ze zredukowanymi wierszami:\n [[3. 7. 8. 0. 0. 4. 7. 5. 3. 1.]\n [1. 3. 4. 6. 6. 4. 1. 0. 5. 4.]\n [6. 6. 5. 2. 7. 0. 1. 4. 3. 7.]\n [2. 2. 0. 0. 0. 2. 3. 4. 0. 1.]\n [0. 0. 3. 3. 6. 7. 5. 2. 1. 0.]\n [2. 6. 4. 6. 8. 5. 4. 1. 0. 3.]\n [5. 8. 4. 4. 2. 1. 0. 3. 4. 3.]\n [6. 1. 0. 3. 2. 1. 0. 1. 2. 5.]\n [2. 5. 3. 3. 0. 5. 7. 1. 2. 4.]\n [5. 4. 5. 2. 5. 6. 8. 1. 0. 6.]]\nKoszt redukcji wierszy: 0.0\nZredukowana macierz:\n [[3. 7. 8. 0. 0. 4. 7. 5. 3. 1.]\n [1. 3. 4. 6. 6. 4. 1. 0. 5. 4.]\n [6. 6. 5. 2. 7. 0. 1. 4. 3. 7.]\n [2. 2. 0. 0. 0. 2. 3. 4. 0. 1.]\n [0. 0. 3. 3. 6. 7. 5. 2. 1. 0.]\n [2. 6. 4. 6. 8. 5. 4. 1. 0. 3.]\n [5. 8. 4. 4. 2. 1. 0. 3. 4. 3.]\n [6. 1. 0. 3. 2. 1. 0. 1. 2. 5.]\n [2. 5. 3. 3. 0. 5. 7. 1. 2. 4.]\n [5. 4. 5. 2. 5. 6. 8. 1. 0. 6.]]\nCałkowity koszt redukcji macierzy: 0.0\nMacierz zredukowana:\n [[3. 7. 8. 0. 0. 4. 7. 5. 3. 1.]\n [1. 3. 4. 6. 6. 4. 1. 0. 5. 4.]\n [6. 6. 5. 2. 7. 0. 1. 4. 3. 7.]\n [2. 2. 0. 0. 0. 2. 3. 4. 0. 1.]\n [0. 0. 3. 3. 6. 7. 5. 2. 1. 0.]\n [2. 6. 4. 6. 8. 5. 4. 1. 0. 3.]\n [5. 8. 4. 4. 2. 1. 0. 3. 4. 3.]\n [6. 1. 0. 3. 2. 1. 0. 1. 2. 5.]\n [2. 5. 3. 3. 0. 5. 7. 1. 2. 4.]\n [5. 4. 5. 2. 5. 6. 8. 1. 0. 6.]] \nNowe LB = 2.0 + 0.0 = 2.0\n"
     ]
    },
    {
     "output_type": "execute_result",
     "data": {
      "text/plain": [
       "[(1, 7), (1, 7)]"
      ]
     },
     "metadata": {},
     "execution_count": 6
    }
   ],
   "source": [
    "def Little_algorithm (matrix: np.ndarray):\n",
    "    \n",
    "    print(\"Macierz wejściowa:\\n\", matrix, '\\n')\n",
    "    \n",
    "    path = []\n",
    "    list_of_subproblems = []\n",
    "    stop = False\n",
    "    \n",
    "    reduced_matrix, reduction_cost = reduce_matrix(matrix) #Krok 1\n",
    "    \n",
    "    #while stop == False\n",
    "    \n",
    "    new_vertex, LB = get_new_coords(reduced_matrix) #Krok 2\n",
    "    path.append(new_vertex)\n",
    "    \n",
    "    list_of_subproblems = subproblems(reduced_matrix, path, new_vertex, LB) #Krok 3\n",
    "    \n",
    "    return path\n",
    "\n",
    "matrix = np.array([[5, 8, 9, 2, 1, 5, 8, 6, 4, 2],\n",
    "                   [3, 4, 5, 8, 7, 5, 2, 1, 6, 5],\n",
    "                   [9, 8, 7, 5, 9, 2, 3, 6, 5, 9],\n",
    "                   [8, 7, 5, 6, 5, 7, 8, 9, 5, 6],\n",
    "                   [2, 1, 4, 5, 7, 8, 6, 3, 2, 1],\n",
    "                   [4, 7, 5, 8, 9, 6, 5, 2, 1, 4],\n",
    "                   [7, 9, 5, 6, 3, 2, 1, 4, 5, 4],\n",
    "                   [8, 2, 1, 5, 3, 2, 1, 2, 3, 6],\n",
    "                   [5, 7, 5, 6, 2, 7, 9, 3, 4, 6],\n",
    "                   [7, 5, 6, 4, 6, 7, 9, 2, 1, 7]])\n",
    "\n",
    "Little_algorithm(matrix)"
   ]
  },
  {
   "cell_type": "code",
   "execution_count": null,
   "metadata": {},
   "outputs": [],
   "source": []
  }
 ],
 "metadata": {
  "kernelspec": {
   "name": "python366jvsc74a57bd0f7291e4b392a32fbfa525b87d1bbd0a3d888adf3d0deca0c205c61b9e7284b82",
   "display_name": "Python 3.6.6 64-bit"
  },
  "language_info": {
   "codemirror_mode": {
    "name": "ipython",
    "version": 3
   },
   "file_extension": ".py",
   "mimetype": "text/x-python",
   "name": "python",
   "nbconvert_exporter": "python",
   "pygments_lexer": "ipython3",
   "version": "3.6.6"
  },
  "metadata": {
   "interpreter": {
    "hash": "f7291e4b392a32fbfa525b87d1bbd0a3d888adf3d0deca0c205c61b9e7284b82"
   }
  }
 },
 "nbformat": 4,
 "nbformat_minor": 4
}